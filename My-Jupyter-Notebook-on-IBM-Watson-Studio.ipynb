{
    "cells": [
        {
            "cell_type": "markdown",
            "metadata": {
                "collapsed": true
            },
            "source": [
                "# My Jupyter Notebook on IBM Watson Studio"
            ]
        },
        {
            "attachments": {},
            "cell_type": "markdown",
            "metadata": {},
            "source": [
                "**Pablo Ramos**\n"
            ]
        },
        {
            "attachments": {},
            "cell_type": "markdown",
            "metadata": {},
            "source": [
                " Data Scientist"
            ]
        },
        {
            "attachments": {},
            "cell_type": "markdown",
            "metadata": {},
            "source": [
                "*I'm fascinated by data science because I want to leverage the power of AI/ML to develop powerful solutions and gain profound insights into the problems an organization needs to solve or to uncover hidden patterns that could lead to novel potential insights*"
            ]
        },
        {
            "attachments": {},
            "cell_type": "markdown",
            "metadata": {},
            "source": [
                "### The Following Code will sum two numbers"
            ]
        },
        {
            "cell_type": "code",
            "execution_count": null,
            "metadata": {},
            "outputs": [],
            "source": [
                "x =3\n",
                "y= 4\n",
                "print(\"Result:\",x+y)"
            ]
        },
        {
            "attachments": {},
            "cell_type": "markdown",
            "metadata": {},
            "source": [
                "Interested technologies:\n",
                "***\n",
                "1. AI- ML/DL\n",
                "2. Data Science\n",
                "3. Logistic\n",
                "4. IoT\n",
                "***\n",
                "[Github](https://www.github.com/bloramos) https://www.github.com/bloramos"
            ]
        }
    ],
    "metadata": {
        "kernelspec": {
            "display_name": "base",
            "language": "python",
            "name": "python3"
        },
        "language_info": {
            "codemirror_mode": {
                "name": "ipython",
                "version": 3
            },
            "file_extension": ".py",
            "mimetype": "text/x-python",
            "name": "python",
            "nbconvert_exporter": "python",
            "pygments_lexer": "ipython3",
            "version": "3.9.13"
        },
        "vscode": {
            "interpreter": {
                "hash": "84b55eb09e09bed9fb4a478111bcfb13c0e6944c445799861ffb04e91f581c74"
            }
        }
    },
    "nbformat": 4,
    "nbformat_minor": 1
}
